{
  "nbformat": 4,
  "nbformat_minor": 0,
  "metadata": {
    "colab": {
      "name": "capstoneProject.ipynb",
      "provenance": [],
      "collapsed_sections": [],
      "authorship_tag": "ABX9TyP/oM+T1d3nC1yBwCio2fyS",
      "include_colab_link": true
    },
    "kernelspec": {
      "name": "python3",
      "display_name": "Python 3"
    }
  },
  "cells": [
    {
      "cell_type": "markdown",
      "metadata": {
        "id": "view-in-github",
        "colab_type": "text"
      },
      "source": [
        "<a href=\"https://colab.research.google.com/github/yashrakeshmishra/Coursera_Capstone/blob/master/capstoneProject.ipynb\" target=\"_parent\"><img src=\"https://colab.research.google.com/assets/colab-badge.svg\" alt=\"Open In Colab\"/></a>"
      ]
    },
    {
      "cell_type": "markdown",
      "metadata": {
        "id": "TCIyzOTGVr2K",
        "colab_type": "text"
      },
      "source": [
        "# Capstone Project IBM Data Science Course\n",
        "\n",
        "This Notebook is for the final Capstone Project in the IBM Data Science Professional Certificate course. It will involve a series of operations as required by the project."
      ]
    },
    {
      "cell_type": "markdown",
      "metadata": {
        "id": "40UunUhJYLvY",
        "colab_type": "text"
      },
      "source": [
        "# Predicting the severity of accident based on different conditions.\n",
        "\n",
        "The model is trained using a classification algorithm. A data set consisting of road accidents in the city of Seattle from 2014 to present is used to train the model and evaluate it's metrics. Since the dataset only contains about two types of severities; namely slight and severe. A classic binary classfication algorithm is used to construct a model.\n",
        "\n",
        "## Importing the important libraries for handling data."
      ]
    },
    {
      "cell_type": "code",
      "metadata": {
        "id": "47ucQ4dRT5UH",
        "colab_type": "code",
        "colab": {
          "base_uri": "https://localhost:8080/",
          "height": 71
        },
        "outputId": "da63dfb9-ecb1-48fb-f8bc-a6aa58bbfa46"
      },
      "source": [
        "import numpy as np\n",
        "import pandas as pd\n",
        "import matplotlib.pyplot as plt\n",
        "import seaborn as sns\n",
        "import warnings\n",
        "warnings.filterwarnings('ignore')\n",
        "%matplotlib inline"
      ],
      "execution_count": 1,
      "outputs": [
        {
          "output_type": "stream",
          "text": [
            "/usr/local/lib/python3.6/dist-packages/statsmodels/tools/_testing.py:19: FutureWarning: pandas.util.testing is deprecated. Use the functions in the public API at pandas.testing instead.\n",
            "  import pandas.util.testing as tm\n"
          ],
          "name": "stderr"
        }
      ]
    },
    {
      "cell_type": "markdown",
      "metadata": {
        "id": "bI5-OsCzY8HT",
        "colab_type": "text"
      },
      "source": [
        "## Downloading the data from the internet and storing it as a Pandas dataframe."
      ]
    },
    {
      "cell_type": "code",
      "metadata": {
        "id": "BODuoCtVUV4P",
        "colab_type": "code",
        "colab": {}
      },
      "source": [
        "df = pd.read_csv('https://s3.us.cloud-object-storage.appdomain.cloud/cf-courses-data/CognitiveClass/DP0701EN/version-2/Data-Collisions.csv')"
      ],
      "execution_count": 2,
      "outputs": []
    },
    {
      "cell_type": "markdown",
      "metadata": {
        "id": "hWfd41KSZG6s",
        "colab_type": "text"
      },
      "source": [
        "## Refining the data\n",
        "\n",
        "Important colums which will we required to evaluate the severity are kept and other non essential elements are dropped."
      ]
    },
    {
      "cell_type": "code",
      "metadata": {
        "id": "IFQNqjADqI7Z",
        "colab_type": "code",
        "colab": {}
      },
      "source": [
        "data = df[['SEVERITYCODE','PERSONCOUNT','VEHCOUNT','WEATHER','ROADCOND','LIGHTCOND','INATTENTIONIND','UNDERINFL']]\n",
        "attributes = data.columns.to_list()"
      ],
      "execution_count": 3,
      "outputs": []
    },
    {
      "cell_type": "markdown",
      "metadata": {
        "id": "2b8dqNeOZY-_",
        "colab_type": "text"
      },
      "source": [
        "The data obtained has many null values. We could have eliminated the null values but that would result in loss of dataset. Therefore, we replace the NaN values with the value with highest frequency in th column, since that value has the highest probability."
      ]
    },
    {
      "cell_type": "code",
      "metadata": {
        "id": "6LF0S6QGUwB8",
        "colab_type": "code",
        "colab": {}
      },
      "source": [
        "for column in attributes:\n",
        "    data[column].fillna(data[column].mode()[0], inplace=True)"
      ],
      "execution_count": 4,
      "outputs": []
    },
    {
      "cell_type": "markdown",
      "metadata": {
        "id": "Z0oJeii3amgF",
        "colab_type": "text"
      },
      "source": [
        "The columns <code> INATTENTIONIND </code> and <code> UNDERINFL </code>contained mixed values such as 'Y','N',1,0. Therefore we convert the data into numerical form."
      ]
    },
    {
      "cell_type": "code",
      "metadata": {
        "id": "dLWweEUbsVGR",
        "colab_type": "code",
        "colab": {}
      },
      "source": [
        "data['INATTENTIONIND'].replace('Y',1,inplace=True)\n",
        "data['INATTENTIONIND'].replace('N',0,inplace=True)\n",
        "data.INATTENTIONIND.astype('int64')\n",
        "data['UNDERINFL'].replace('Y',1,inplace=True)\n",
        "data['UNDERINFL'].replace('N',0,inplace=True)\n",
        "data.UNDERINFL.astype('int64');\n"
      ],
      "execution_count": 5,
      "outputs": []
    },
    {
      "cell_type": "markdown",
      "metadata": {
        "id": "FdLstzEDbSix",
        "colab_type": "text"
      },
      "source": [
        "Using the **One-Hot-Encoding** for the weather followed by dropping the weather column to obtain additonal columns with different types of weathers. The column value for a particular weather is 1 or 0 depending if the weather condition was true at the time of that particular accident."
      ]
    },
    {
      "cell_type": "code",
      "metadata": {
        "id": "OTS72F0fszUt",
        "colab_type": "code",
        "colab": {}
      },
      "source": [
        "weathers=pd.get_dummies(data.WEATHER)\n",
        "data = pd.concat([data,weathers],axis=1)"
      ],
      "execution_count": 6,
      "outputs": []
    },
    {
      "cell_type": "code",
      "metadata": {
        "id": "lT600EHzQWQS",
        "colab_type": "code",
        "colab": {}
      },
      "source": [
        "data.drop(columns='WEATHER', inplace=True)"
      ],
      "execution_count": 7,
      "outputs": []
    },
    {
      "cell_type": "code",
      "metadata": {
        "id": "4Y3Nvr9vV74n",
        "colab_type": "code",
        "colab": {}
      },
      "source": [
        "data.rename(columns={'Fog/Smog/Smoke': 'Smoke','Sleet/Hail/Freezing Rain':'Hail', 'Unknown': 'Unpredictable Weather', 'Blowing Sand/Dirt': 'Sandy'}, inplace=True)"
      ],
      "execution_count": 8,
      "outputs": []
    },
    {
      "cell_type": "code",
      "metadata": {
        "id": "gIPqAjOnbce7",
        "colab_type": "code",
        "colab": {
          "base_uri": "https://localhost:8080/",
          "height": 275
        },
        "outputId": "80c29fa8-51c8-49c4-87bd-eed9b8b1f4ed"
      },
      "source": [
        "data.head()"
      ],
      "execution_count": 9,
      "outputs": [
        {
          "output_type": "execute_result",
          "data": {
            "text/html": [
              "<div>\n",
              "<style scoped>\n",
              "    .dataframe tbody tr th:only-of-type {\n",
              "        vertical-align: middle;\n",
              "    }\n",
              "\n",
              "    .dataframe tbody tr th {\n",
              "        vertical-align: top;\n",
              "    }\n",
              "\n",
              "    .dataframe thead th {\n",
              "        text-align: right;\n",
              "    }\n",
              "</style>\n",
              "<table border=\"1\" class=\"dataframe\">\n",
              "  <thead>\n",
              "    <tr style=\"text-align: right;\">\n",
              "      <th></th>\n",
              "      <th>SEVERITYCODE</th>\n",
              "      <th>PERSONCOUNT</th>\n",
              "      <th>VEHCOUNT</th>\n",
              "      <th>ROADCOND</th>\n",
              "      <th>LIGHTCOND</th>\n",
              "      <th>INATTENTIONIND</th>\n",
              "      <th>UNDERINFL</th>\n",
              "      <th>Sandy</th>\n",
              "      <th>Clear</th>\n",
              "      <th>Smoke</th>\n",
              "      <th>Other</th>\n",
              "      <th>Overcast</th>\n",
              "      <th>Partly Cloudy</th>\n",
              "      <th>Raining</th>\n",
              "      <th>Severe Crosswind</th>\n",
              "      <th>Hail</th>\n",
              "      <th>Snowing</th>\n",
              "      <th>Unpredictable Weather</th>\n",
              "    </tr>\n",
              "  </thead>\n",
              "  <tbody>\n",
              "    <tr>\n",
              "      <th>0</th>\n",
              "      <td>2</td>\n",
              "      <td>2</td>\n",
              "      <td>2</td>\n",
              "      <td>Wet</td>\n",
              "      <td>Daylight</td>\n",
              "      <td>1</td>\n",
              "      <td>0</td>\n",
              "      <td>0</td>\n",
              "      <td>0</td>\n",
              "      <td>0</td>\n",
              "      <td>0</td>\n",
              "      <td>1</td>\n",
              "      <td>0</td>\n",
              "      <td>0</td>\n",
              "      <td>0</td>\n",
              "      <td>0</td>\n",
              "      <td>0</td>\n",
              "      <td>0</td>\n",
              "    </tr>\n",
              "    <tr>\n",
              "      <th>1</th>\n",
              "      <td>1</td>\n",
              "      <td>2</td>\n",
              "      <td>2</td>\n",
              "      <td>Wet</td>\n",
              "      <td>Dark - Street Lights On</td>\n",
              "      <td>1</td>\n",
              "      <td>0</td>\n",
              "      <td>0</td>\n",
              "      <td>0</td>\n",
              "      <td>0</td>\n",
              "      <td>0</td>\n",
              "      <td>0</td>\n",
              "      <td>0</td>\n",
              "      <td>1</td>\n",
              "      <td>0</td>\n",
              "      <td>0</td>\n",
              "      <td>0</td>\n",
              "      <td>0</td>\n",
              "    </tr>\n",
              "    <tr>\n",
              "      <th>2</th>\n",
              "      <td>1</td>\n",
              "      <td>4</td>\n",
              "      <td>3</td>\n",
              "      <td>Dry</td>\n",
              "      <td>Daylight</td>\n",
              "      <td>1</td>\n",
              "      <td>0</td>\n",
              "      <td>0</td>\n",
              "      <td>0</td>\n",
              "      <td>0</td>\n",
              "      <td>0</td>\n",
              "      <td>1</td>\n",
              "      <td>0</td>\n",
              "      <td>0</td>\n",
              "      <td>0</td>\n",
              "      <td>0</td>\n",
              "      <td>0</td>\n",
              "      <td>0</td>\n",
              "    </tr>\n",
              "    <tr>\n",
              "      <th>3</th>\n",
              "      <td>1</td>\n",
              "      <td>3</td>\n",
              "      <td>3</td>\n",
              "      <td>Dry</td>\n",
              "      <td>Daylight</td>\n",
              "      <td>1</td>\n",
              "      <td>0</td>\n",
              "      <td>0</td>\n",
              "      <td>1</td>\n",
              "      <td>0</td>\n",
              "      <td>0</td>\n",
              "      <td>0</td>\n",
              "      <td>0</td>\n",
              "      <td>0</td>\n",
              "      <td>0</td>\n",
              "      <td>0</td>\n",
              "      <td>0</td>\n",
              "      <td>0</td>\n",
              "    </tr>\n",
              "    <tr>\n",
              "      <th>4</th>\n",
              "      <td>2</td>\n",
              "      <td>2</td>\n",
              "      <td>2</td>\n",
              "      <td>Wet</td>\n",
              "      <td>Daylight</td>\n",
              "      <td>1</td>\n",
              "      <td>0</td>\n",
              "      <td>0</td>\n",
              "      <td>0</td>\n",
              "      <td>0</td>\n",
              "      <td>0</td>\n",
              "      <td>0</td>\n",
              "      <td>0</td>\n",
              "      <td>1</td>\n",
              "      <td>0</td>\n",
              "      <td>0</td>\n",
              "      <td>0</td>\n",
              "      <td>0</td>\n",
              "    </tr>\n",
              "  </tbody>\n",
              "</table>\n",
              "</div>"
            ],
            "text/plain": [
              "   SEVERITYCODE  PERSONCOUNT  VEHCOUNT  ... Hail Snowing  Unpredictable Weather\n",
              "0             2            2         2  ...    0       0                      0\n",
              "1             1            2         2  ...    0       0                      0\n",
              "2             1            4         3  ...    0       0                      0\n",
              "3             1            3         3  ...    0       0                      0\n",
              "4             2            2         2  ...    0       0                      0\n",
              "\n",
              "[5 rows x 18 columns]"
            ]
          },
          "metadata": {
            "tags": []
          },
          "execution_count": 9
        }
      ]
    },
    {
      "cell_type": "markdown",
      "metadata": {
        "id": "XhTW8epWcCqE",
        "colab_type": "text"
      },
      "source": [
        "Performing the **One-Hot-Encoding** for <code>ROADCOND</code> and <code> LIGHTCOND</code> as well."
      ]
    },
    {
      "cell_type": "code",
      "metadata": {
        "id": "tnH5jbc7bm2l",
        "colab_type": "code",
        "colab": {}
      },
      "source": [
        "lighting = pd.get_dummies(data.LIGHTCOND)\n",
        "data = pd.concat([data,lighting],axis=1)"
      ],
      "execution_count": 10,
      "outputs": []
    },
    {
      "cell_type": "code",
      "metadata": {
        "id": "GrVYxQ6Tc0g3",
        "colab_type": "code",
        "colab": {}
      },
      "source": [
        "data.drop('LIGHTCOND',axis=1,inplace=True)\n",
        "data.rename(columns={'Unknown': 'Unknown Lighting'}, inplace=True)"
      ],
      "execution_count": 11,
      "outputs": []
    },
    {
      "cell_type": "code",
      "metadata": {
        "id": "zgQLf2oZdlpM",
        "colab_type": "code",
        "colab": {}
      },
      "source": [
        "roads = pd.get_dummies(data.ROADCOND, prefix='roadcond_')\n",
        "data = pd.concat([data,roads],axis=1)"
      ],
      "execution_count": 12,
      "outputs": []
    },
    {
      "cell_type": "code",
      "metadata": {
        "id": "hodhz1g8dqNW",
        "colab_type": "code",
        "colab": {
          "base_uri": "https://localhost:8080/",
          "height": 275
        },
        "outputId": "c5e46ca4-d6db-4a2b-ee94-750aa845b9cd"
      },
      "source": [
        "data.drop('ROADCOND',axis=1,inplace=True)\n",
        "data.head()"
      ],
      "execution_count": 13,
      "outputs": [
        {
          "output_type": "execute_result",
          "data": {
            "text/html": [
              "<div>\n",
              "<style scoped>\n",
              "    .dataframe tbody tr th:only-of-type {\n",
              "        vertical-align: middle;\n",
              "    }\n",
              "\n",
              "    .dataframe tbody tr th {\n",
              "        vertical-align: top;\n",
              "    }\n",
              "\n",
              "    .dataframe thead th {\n",
              "        text-align: right;\n",
              "    }\n",
              "</style>\n",
              "<table border=\"1\" class=\"dataframe\">\n",
              "  <thead>\n",
              "    <tr style=\"text-align: right;\">\n",
              "      <th></th>\n",
              "      <th>SEVERITYCODE</th>\n",
              "      <th>PERSONCOUNT</th>\n",
              "      <th>VEHCOUNT</th>\n",
              "      <th>INATTENTIONIND</th>\n",
              "      <th>UNDERINFL</th>\n",
              "      <th>Sandy</th>\n",
              "      <th>Clear</th>\n",
              "      <th>Smoke</th>\n",
              "      <th>Other</th>\n",
              "      <th>Overcast</th>\n",
              "      <th>Partly Cloudy</th>\n",
              "      <th>Raining</th>\n",
              "      <th>Severe Crosswind</th>\n",
              "      <th>Hail</th>\n",
              "      <th>Snowing</th>\n",
              "      <th>Unpredictable Weather</th>\n",
              "      <th>Dark - No Street Lights</th>\n",
              "      <th>Dark - Street Lights Off</th>\n",
              "      <th>Dark - Street Lights On</th>\n",
              "      <th>Dark - Unknown Lighting</th>\n",
              "      <th>Dawn</th>\n",
              "      <th>Daylight</th>\n",
              "      <th>Dusk</th>\n",
              "      <th>Other</th>\n",
              "      <th>Unknown Lighting</th>\n",
              "      <th>roadcond__Dry</th>\n",
              "      <th>roadcond__Ice</th>\n",
              "      <th>roadcond__Oil</th>\n",
              "      <th>roadcond__Other</th>\n",
              "      <th>roadcond__Sand/Mud/Dirt</th>\n",
              "      <th>roadcond__Snow/Slush</th>\n",
              "      <th>roadcond__Standing Water</th>\n",
              "      <th>roadcond__Unknown</th>\n",
              "      <th>roadcond__Wet</th>\n",
              "    </tr>\n",
              "  </thead>\n",
              "  <tbody>\n",
              "    <tr>\n",
              "      <th>0</th>\n",
              "      <td>2</td>\n",
              "      <td>2</td>\n",
              "      <td>2</td>\n",
              "      <td>1</td>\n",
              "      <td>0</td>\n",
              "      <td>0</td>\n",
              "      <td>0</td>\n",
              "      <td>0</td>\n",
              "      <td>0</td>\n",
              "      <td>1</td>\n",
              "      <td>0</td>\n",
              "      <td>0</td>\n",
              "      <td>0</td>\n",
              "      <td>0</td>\n",
              "      <td>0</td>\n",
              "      <td>0</td>\n",
              "      <td>0</td>\n",
              "      <td>0</td>\n",
              "      <td>0</td>\n",
              "      <td>0</td>\n",
              "      <td>0</td>\n",
              "      <td>1</td>\n",
              "      <td>0</td>\n",
              "      <td>0</td>\n",
              "      <td>0</td>\n",
              "      <td>0</td>\n",
              "      <td>0</td>\n",
              "      <td>0</td>\n",
              "      <td>0</td>\n",
              "      <td>0</td>\n",
              "      <td>0</td>\n",
              "      <td>0</td>\n",
              "      <td>0</td>\n",
              "      <td>1</td>\n",
              "    </tr>\n",
              "    <tr>\n",
              "      <th>1</th>\n",
              "      <td>1</td>\n",
              "      <td>2</td>\n",
              "      <td>2</td>\n",
              "      <td>1</td>\n",
              "      <td>0</td>\n",
              "      <td>0</td>\n",
              "      <td>0</td>\n",
              "      <td>0</td>\n",
              "      <td>0</td>\n",
              "      <td>0</td>\n",
              "      <td>0</td>\n",
              "      <td>1</td>\n",
              "      <td>0</td>\n",
              "      <td>0</td>\n",
              "      <td>0</td>\n",
              "      <td>0</td>\n",
              "      <td>0</td>\n",
              "      <td>0</td>\n",
              "      <td>1</td>\n",
              "      <td>0</td>\n",
              "      <td>0</td>\n",
              "      <td>0</td>\n",
              "      <td>0</td>\n",
              "      <td>0</td>\n",
              "      <td>0</td>\n",
              "      <td>0</td>\n",
              "      <td>0</td>\n",
              "      <td>0</td>\n",
              "      <td>0</td>\n",
              "      <td>0</td>\n",
              "      <td>0</td>\n",
              "      <td>0</td>\n",
              "      <td>0</td>\n",
              "      <td>1</td>\n",
              "    </tr>\n",
              "    <tr>\n",
              "      <th>2</th>\n",
              "      <td>1</td>\n",
              "      <td>4</td>\n",
              "      <td>3</td>\n",
              "      <td>1</td>\n",
              "      <td>0</td>\n",
              "      <td>0</td>\n",
              "      <td>0</td>\n",
              "      <td>0</td>\n",
              "      <td>0</td>\n",
              "      <td>1</td>\n",
              "      <td>0</td>\n",
              "      <td>0</td>\n",
              "      <td>0</td>\n",
              "      <td>0</td>\n",
              "      <td>0</td>\n",
              "      <td>0</td>\n",
              "      <td>0</td>\n",
              "      <td>0</td>\n",
              "      <td>0</td>\n",
              "      <td>0</td>\n",
              "      <td>0</td>\n",
              "      <td>1</td>\n",
              "      <td>0</td>\n",
              "      <td>0</td>\n",
              "      <td>0</td>\n",
              "      <td>1</td>\n",
              "      <td>0</td>\n",
              "      <td>0</td>\n",
              "      <td>0</td>\n",
              "      <td>0</td>\n",
              "      <td>0</td>\n",
              "      <td>0</td>\n",
              "      <td>0</td>\n",
              "      <td>0</td>\n",
              "    </tr>\n",
              "    <tr>\n",
              "      <th>3</th>\n",
              "      <td>1</td>\n",
              "      <td>3</td>\n",
              "      <td>3</td>\n",
              "      <td>1</td>\n",
              "      <td>0</td>\n",
              "      <td>0</td>\n",
              "      <td>1</td>\n",
              "      <td>0</td>\n",
              "      <td>0</td>\n",
              "      <td>0</td>\n",
              "      <td>0</td>\n",
              "      <td>0</td>\n",
              "      <td>0</td>\n",
              "      <td>0</td>\n",
              "      <td>0</td>\n",
              "      <td>0</td>\n",
              "      <td>0</td>\n",
              "      <td>0</td>\n",
              "      <td>0</td>\n",
              "      <td>0</td>\n",
              "      <td>0</td>\n",
              "      <td>1</td>\n",
              "      <td>0</td>\n",
              "      <td>0</td>\n",
              "      <td>0</td>\n",
              "      <td>1</td>\n",
              "      <td>0</td>\n",
              "      <td>0</td>\n",
              "      <td>0</td>\n",
              "      <td>0</td>\n",
              "      <td>0</td>\n",
              "      <td>0</td>\n",
              "      <td>0</td>\n",
              "      <td>0</td>\n",
              "    </tr>\n",
              "    <tr>\n",
              "      <th>4</th>\n",
              "      <td>2</td>\n",
              "      <td>2</td>\n",
              "      <td>2</td>\n",
              "      <td>1</td>\n",
              "      <td>0</td>\n",
              "      <td>0</td>\n",
              "      <td>0</td>\n",
              "      <td>0</td>\n",
              "      <td>0</td>\n",
              "      <td>0</td>\n",
              "      <td>0</td>\n",
              "      <td>1</td>\n",
              "      <td>0</td>\n",
              "      <td>0</td>\n",
              "      <td>0</td>\n",
              "      <td>0</td>\n",
              "      <td>0</td>\n",
              "      <td>0</td>\n",
              "      <td>0</td>\n",
              "      <td>0</td>\n",
              "      <td>0</td>\n",
              "      <td>1</td>\n",
              "      <td>0</td>\n",
              "      <td>0</td>\n",
              "      <td>0</td>\n",
              "      <td>0</td>\n",
              "      <td>0</td>\n",
              "      <td>0</td>\n",
              "      <td>0</td>\n",
              "      <td>0</td>\n",
              "      <td>0</td>\n",
              "      <td>0</td>\n",
              "      <td>0</td>\n",
              "      <td>1</td>\n",
              "    </tr>\n",
              "  </tbody>\n",
              "</table>\n",
              "</div>"
            ],
            "text/plain": [
              "   SEVERITYCODE  PERSONCOUNT  ...  roadcond__Unknown  roadcond__Wet\n",
              "0             2            2  ...                  0              1\n",
              "1             1            2  ...                  0              1\n",
              "2             1            4  ...                  0              0\n",
              "3             1            3  ...                  0              0\n",
              "4             2            2  ...                  0              1\n",
              "\n",
              "[5 rows x 34 columns]"
            ]
          },
          "metadata": {
            "tags": []
          },
          "execution_count": 13
        }
      ]
    },
    {
      "cell_type": "markdown",
      "metadata": {
        "id": "OdFlfSqAfW6g",
        "colab_type": "text"
      },
      "source": [
        "The data has been cleaned and is now ready to be processed. We know form our X and y sets for processing the data.\n",
        "The 'y' set consists of the severity codes while the 'X' column consists of the features."
      ]
    },
    {
      "cell_type": "code",
      "metadata": {
        "id": "wQf5OF7nf632",
        "colab_type": "code",
        "colab": {
          "base_uri": "https://localhost:8080/",
          "height": 34
        },
        "outputId": "867af1bb-aa4a-4c3a-d38c-ca2127da6901"
      },
      "source": [
        "data.shape"
      ],
      "execution_count": 14,
      "outputs": [
        {
          "output_type": "execute_result",
          "data": {
            "text/plain": [
              "(194673, 34)"
            ]
          },
          "metadata": {
            "tags": []
          },
          "execution_count": 14
        }
      ]
    },
    {
      "cell_type": "code",
      "metadata": {
        "id": "tAbUbL4zf_oC",
        "colab_type": "code",
        "colab": {
          "base_uri": "https://localhost:8080/",
          "height": 34
        },
        "outputId": "e48754e0-b4db-4303-f08b-fa1da99ac0fe"
      },
      "source": [
        "y = np.asarray(data['SEVERITYCODE'])\n",
        "y[0:5]"
      ],
      "execution_count": 15,
      "outputs": [
        {
          "output_type": "execute_result",
          "data": {
            "text/plain": [
              "array([2, 1, 1, 1, 2])"
            ]
          },
          "metadata": {
            "tags": []
          },
          "execution_count": 15
        }
      ]
    },
    {
      "cell_type": "code",
      "metadata": {
        "id": "iHCmbrlGgMlu",
        "colab_type": "code",
        "colab": {}
      },
      "source": [
        "X = data.drop('SEVERITYCODE', axis=1)\n",
        "X = np.asarray(X[X.columns.to_list()])\n",
        "X = X.astype(int)"
      ],
      "execution_count": 16,
      "outputs": []
    },
    {
      "cell_type": "markdown",
      "metadata": {
        "id": "-P1uqAukiSvM",
        "colab_type": "text"
      },
      "source": [
        "Normalizing the dataset:"
      ]
    },
    {
      "cell_type": "code",
      "metadata": {
        "id": "jZjzQGI3gsGf",
        "colab_type": "code",
        "colab": {
          "base_uri": "https://localhost:8080/",
          "height": 612
        },
        "outputId": "01a579f0-60f2-45ba-c873-d52ce0a2247a"
      },
      "source": [
        "from sklearn import preprocessing\n",
        "X = preprocessing.StandardScaler().fit(X).transform(X)\n",
        "X[0:5]"
      ],
      "execution_count": 17,
      "outputs": [
        {
          "output_type": "execute_result",
          "data": {
            "text/plain": [
              "array([[-0.33020207,  0.12553783,  0.        , -0.2217116 , -0.01696304,\n",
              "        -1.21707436, -0.05414257, -0.06551471, -0.03476509,  2.45445634,\n",
              "        -0.00506801, -0.45298634, -0.011333  , -0.02409974, -0.06841713,\n",
              "        -0.28988624, -0.08920831, -0.07872239, -0.576075  , -0.00751719,\n",
              "        -0.1141037 ,  0.77768637, -0.17682024, -0.06551471, -0.03476509,\n",
              "        -0.27267986, -1.4099744 , -0.07905204, -0.01813462, -0.02604842,\n",
              "        -0.01963186, -0.07200071, -0.02431221, -0.28975087,  1.76085874],\n",
              "       [-0.33020207,  0.12553783,  0.        , -0.2217116 , -0.01696304,\n",
              "        -1.21707436, -0.05414257, -0.06551471, -0.03476509, -0.4074222 ,\n",
              "        -0.00506801,  2.2075721 , -0.011333  , -0.02409974, -0.06841713,\n",
              "        -0.28988624, -0.08920831, -0.07872239,  1.73588509, -0.00751719,\n",
              "        -0.1141037 , -1.2858654 , -0.17682024, -0.06551471, -0.03476509,\n",
              "        -0.27267986, -1.4099744 , -0.07905204, -0.01813462, -0.02604842,\n",
              "        -0.01963186, -0.07200071, -0.02431221, -0.28975087,  1.76085874],\n",
              "       [ 1.15576451,  1.7102107 ,  0.        , -0.2217116 , -0.01696304,\n",
              "        -1.21707436, -0.05414257, -0.06551471, -0.03476509,  2.45445634,\n",
              "        -0.00506801, -0.45298634, -0.011333  , -0.02409974, -0.06841713,\n",
              "        -0.28988624, -0.08920831, -0.07872239, -0.576075  , -0.00751719,\n",
              "        -0.1141037 ,  0.77768637, -0.17682024, -0.06551471, -0.03476509,\n",
              "        -0.27267986,  0.70923273, -0.07905204, -0.01813462, -0.02604842,\n",
              "        -0.01963186, -0.07200071, -0.02431221, -0.28975087, -0.56790473],\n",
              "       [ 0.41278122,  1.7102107 ,  0.        , -0.2217116 , -0.01696304,\n",
              "         0.82164248, -0.05414257, -0.06551471, -0.03476509, -0.4074222 ,\n",
              "        -0.00506801, -0.45298634, -0.011333  , -0.02409974, -0.06841713,\n",
              "        -0.28988624, -0.08920831, -0.07872239, -0.576075  , -0.00751719,\n",
              "        -0.1141037 ,  0.77768637, -0.17682024, -0.06551471, -0.03476509,\n",
              "        -0.27267986,  0.70923273, -0.07905204, -0.01813462, -0.02604842,\n",
              "        -0.01963186, -0.07200071, -0.02431221, -0.28975087, -0.56790473],\n",
              "       [-0.33020207,  0.12553783,  0.        , -0.2217116 , -0.01696304,\n",
              "        -1.21707436, -0.05414257, -0.06551471, -0.03476509, -0.4074222 ,\n",
              "        -0.00506801,  2.2075721 , -0.011333  , -0.02409974, -0.06841713,\n",
              "        -0.28988624, -0.08920831, -0.07872239, -0.576075  , -0.00751719,\n",
              "        -0.1141037 ,  0.77768637, -0.17682024, -0.06551471, -0.03476509,\n",
              "        -0.27267986, -1.4099744 , -0.07905204, -0.01813462, -0.02604842,\n",
              "        -0.01963186, -0.07200071, -0.02431221, -0.28975087,  1.76085874]])"
            ]
          },
          "metadata": {
            "tags": []
          },
          "execution_count": 17
        }
      ]
    },
    {
      "cell_type": "markdown",
      "metadata": {
        "id": "VhB2peOhiuAf",
        "colab_type": "text"
      },
      "source": [
        "## Train/Test dataset\n",
        "\n",
        "Now we create a Train/Test split to emulate out-of-sample testing to ensure the performance of our model."
      ]
    },
    {
      "cell_type": "code",
      "metadata": {
        "id": "YH_5amcni7Zh",
        "colab_type": "code",
        "colab": {
          "base_uri": "https://localhost:8080/",
          "height": 51
        },
        "outputId": "898f14fd-8619-425a-fc03-476f52c483d9"
      },
      "source": [
        "from sklearn.model_selection import train_test_split\n",
        "X_train, X_test, y_train, y_test = train_test_split( X, y, test_size=0.2, random_state=4)\n",
        "print ('Train set:', X_train.shape,  y_train.shape)\n",
        "print ('Test set:', X_test.shape,  y_test.shape)"
      ],
      "execution_count": 18,
      "outputs": [
        {
          "output_type": "stream",
          "text": [
            "Train set: (155738, 35) (155738,)\n",
            "Test set: (38935, 35) (38935,)\n"
          ],
          "name": "stdout"
        }
      ]
    }
  ]
}